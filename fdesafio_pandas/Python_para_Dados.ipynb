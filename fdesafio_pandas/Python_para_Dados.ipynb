{
 "cells": [
  {
   "cell_type": "code",
   "execution_count": 23,
   "metadata": {},
   "outputs": [
    {
     "data": {
      "text/html": [
       "<div>\n",
       "<style scoped>\n",
       "    .dataframe tbody tr th:only-of-type {\n",
       "        vertical-align: middle;\n",
       "    }\n",
       "\n",
       "    .dataframe tbody tr th {\n",
       "        vertical-align: top;\n",
       "    }\n",
       "\n",
       "    .dataframe thead th {\n",
       "        text-align: right;\n",
       "    }\n",
       "</style>\n",
       "<table border=\"1\" class=\"dataframe\">\n",
       "  <thead>\n",
       "    <tr style=\"text-align: right;\">\n",
       "      <th></th>\n",
       "      <th>ID</th>\n",
       "      <th>Gênero</th>\n",
       "      <th>Idade</th>\n",
       "      <th>Ocupação</th>\n",
       "      <th>Duração do sono</th>\n",
       "      <th>Qualidade do sono</th>\n",
       "      <th>Nível de atividade física</th>\n",
       "      <th>Nível de estresse</th>\n",
       "      <th>Categoria BMI</th>\n",
       "      <th>Pressão sanguíneaaaa</th>\n",
       "      <th>Frequência cardíaca</th>\n",
       "      <th>Passos diários</th>\n",
       "      <th>Distúrbio do sono</th>\n",
       "    </tr>\n",
       "  </thead>\n",
       "  <tbody>\n",
       "    <tr>\n",
       "      <th>0</th>\n",
       "      <td>1</td>\n",
       "      <td>Homem</td>\n",
       "      <td>27</td>\n",
       "      <td>Eng. de Software</td>\n",
       "      <td>6.1</td>\n",
       "      <td>6</td>\n",
       "      <td>42</td>\n",
       "      <td>6</td>\n",
       "      <td>Sobrepeso</td>\n",
       "      <td>126/83</td>\n",
       "      <td>77</td>\n",
       "      <td>4200</td>\n",
       "      <td>Nenhuma</td>\n",
       "    </tr>\n",
       "    <tr>\n",
       "      <th>1</th>\n",
       "      <td>2</td>\n",
       "      <td>Homem</td>\n",
       "      <td>28</td>\n",
       "      <td>Médico(a)</td>\n",
       "      <td>6.2</td>\n",
       "      <td>6</td>\n",
       "      <td>60</td>\n",
       "      <td>8</td>\n",
       "      <td>Normal</td>\n",
       "      <td>125/80</td>\n",
       "      <td>75</td>\n",
       "      <td>10000</td>\n",
       "      <td>Nenhuma</td>\n",
       "    </tr>\n",
       "    <tr>\n",
       "      <th>2</th>\n",
       "      <td>3</td>\n",
       "      <td>Homem</td>\n",
       "      <td>28</td>\n",
       "      <td>Médico(a)</td>\n",
       "      <td>6.2</td>\n",
       "      <td>6</td>\n",
       "      <td>60</td>\n",
       "      <td>8</td>\n",
       "      <td>Normal</td>\n",
       "      <td>125/80</td>\n",
       "      <td>75</td>\n",
       "      <td>10000</td>\n",
       "      <td>Nenhuma</td>\n",
       "    </tr>\n",
       "    <tr>\n",
       "      <th>3</th>\n",
       "      <td>4</td>\n",
       "      <td>Homem</td>\n",
       "      <td>28</td>\n",
       "      <td>Representante de Vendas</td>\n",
       "      <td>5.9</td>\n",
       "      <td>4</td>\n",
       "      <td>30</td>\n",
       "      <td>8</td>\n",
       "      <td>Obesidade</td>\n",
       "      <td>140/90</td>\n",
       "      <td>85</td>\n",
       "      <td>3000</td>\n",
       "      <td>Apneia do sono</td>\n",
       "    </tr>\n",
       "    <tr>\n",
       "      <th>4</th>\n",
       "      <td>5</td>\n",
       "      <td>Homem</td>\n",
       "      <td>28</td>\n",
       "      <td>Representante de Vendas</td>\n",
       "      <td>5.9</td>\n",
       "      <td>4</td>\n",
       "      <td>30</td>\n",
       "      <td>8</td>\n",
       "      <td>Obesidade</td>\n",
       "      <td>140/90</td>\n",
       "      <td>85</td>\n",
       "      <td>3000</td>\n",
       "      <td>Apneia do sono</td>\n",
       "    </tr>\n",
       "  </tbody>\n",
       "</table>\n",
       "</div>"
      ],
      "text/plain": [
       "   ID Gênero  Idade                 Ocupação  Duração do sono  \\\n",
       "0   1  Homem     27         Eng. de Software              6.1   \n",
       "1   2  Homem     28                Médico(a)              6.2   \n",
       "2   3  Homem     28                Médico(a)              6.2   \n",
       "3   4  Homem     28  Representante de Vendas              5.9   \n",
       "4   5  Homem     28  Representante de Vendas              5.9   \n",
       "\n",
       "   Qualidade do sono  Nível de atividade física  Nível de estresse  \\\n",
       "0                  6                         42                  6   \n",
       "1                  6                         60                  8   \n",
       "2                  6                         60                  8   \n",
       "3                  4                         30                  8   \n",
       "4                  4                         30                  8   \n",
       "\n",
       "  Categoria BMI Pressão sanguíneaaaa  Frequência cardíaca  Passos diários  \\\n",
       "0     Sobrepeso               126/83                   77            4200   \n",
       "1        Normal               125/80                   75           10000   \n",
       "2        Normal               125/80                   75           10000   \n",
       "3     Obesidade               140/90                   85            3000   \n",
       "4     Obesidade               140/90                   85            3000   \n",
       "\n",
       "  Distúrbio do sono  \n",
       "0           Nenhuma  \n",
       "1           Nenhuma  \n",
       "2           Nenhuma  \n",
       "3    Apneia do sono  \n",
       "4    Apneia do sono  "
      ]
     },
     "metadata": {},
     "output_type": "display_data"
    },
    {
     "name": "stdout",
     "output_type": "stream",
     "text": [
      "<class 'pandas.core.frame.DataFrame'>\n",
      "RangeIndex: 373 entries, 0 to 372\n",
      "Data columns (total 13 columns):\n",
      " #   Column                     Non-Null Count  Dtype  \n",
      "---  ------                     --------------  -----  \n",
      " 0   ID                         373 non-null    int64  \n",
      " 1   Gênero                     373 non-null    object \n",
      " 2   Idade                      373 non-null    int64  \n",
      " 3   Ocupação                   373 non-null    object \n",
      " 4   Duração do sono            373 non-null    float64\n",
      " 5   Qualidade do sono          373 non-null    int64  \n",
      " 6   Nível de atividade física  373 non-null    int64  \n",
      " 7   Nível de estresse          373 non-null    int64  \n",
      " 8   Categoria BMI              373 non-null    object \n",
      " 9   Pressão sanguíneaaaa       373 non-null    object \n",
      " 10  Frequência cardíaca        373 non-null    int64  \n",
      " 11  Passos diários             373 non-null    int64  \n",
      " 12  Distúrbio do sono          373 non-null    object \n",
      "dtypes: float64(1), int64(7), object(5)\n",
      "memory usage: 38.0+ KB\n",
      "None\n"
     ]
    }
   ],
   "source": [
    "# Importando as bibliotecas necessárias\n",
    "\n",
    "import pandas as pd\n",
    "import numpy as np\n",
    "\n",
    "\n",
    "# Carregando o arquivo CSV e armazenando em um DataFrame\n",
    "\n",
    "df = pd.read_csv('saude_do_sono_estilo_vida.csv',sep=',')\n",
    "\n",
    "\n",
    "# Entendendo o conteúdo do arquivo CSV\n",
    "\n",
    "display(df.head())  # Exibe as primeiras 5 linhas\n",
    "print(df.info())  # Mostra informações sobre as colunas"
   ]
  },
  {
   "cell_type": "code",
   "execution_count": 26,
   "metadata": {},
   "outputs": [
    {
     "name": "stdout",
     "output_type": "stream",
     "text": [
      "Index(['Identificador', 'Gênero', 'Idade', 'Profissão', 'Duração do sono',\n",
      "       'Qualidade do sono', 'Nível de atividade física', 'Nível de estresse',\n",
      "       'Categoria IMC', 'Pressão Sanguínea', 'Frequência cardíaca',\n",
      "       'Passos diários', 'Distúrbio do sono'],\n",
      "      dtype='object')\n"
     ]
    }
   ],
   "source": [
    "# Renomeando as colunas e verificando as mudanças aplicadas\n",
    "\n",
    "df = df.rename(columns={\n",
    "    'ID': 'Identificador',\n",
    "    'Ocupação': 'Profissão',\n",
    "    'Categoria BMI': 'Categoria IMC',\n",
    "    'Pressão sanguíneaaaa': 'Pressão Sanguínea',\n",
    "})\n",
    "\n",
    "print(df.columns)"
   ]
  },
  {
   "cell_type": "code",
   "execution_count": 41,
   "metadata": {},
   "outputs": [
    {
     "data": {
      "text/plain": [
       "Profissão\n",
       "Advogado(a)                7.410638\n",
       "Cientista                  6.000000\n",
       "Contador(a)                7.113514\n",
       "Enfermeiro(a)              7.048611\n",
       "Eng. de Software           6.750000\n",
       "Engenheiro(a)              7.987302\n",
       "Gerente                    6.900000\n",
       "Médico(a)                  6.970423\n",
       "Pessoa Vendendora          6.403125\n",
       "Professor(a)               6.690000\n",
       "Representante de Vendas    5.900000\n",
       "Name: Duração do sono, dtype: float64"
      ]
     },
     "metadata": {},
     "output_type": "display_data"
    },
    {
     "name": "stdout",
     "output_type": "stream",
     "text": [
      "-----------------\n"
     ]
    },
    {
     "data": {
      "text/plain": [
       "Profissão\n",
       "Advogado(a)                7.3\n",
       "Cientista                  6.0\n",
       "Contador(a)                7.2\n",
       "Enfermeiro(a)              6.5\n",
       "Eng. de Software           6.8\n",
       "Engenheiro(a)              8.3\n",
       "Gerente                    6.9\n",
       "Médico(a)                  7.6\n",
       "Pessoa Vendendora          6.4\n",
       "Professor(a)               6.6\n",
       "Representante de Vendas    5.9\n",
       "Name: Duração do sono, dtype: float64"
      ]
     },
     "metadata": {},
     "output_type": "display_data"
    },
    {
     "data": {
      "text/plain": [
       "Profissão\n",
       "Advogado(a)                7.410638\n",
       "Cientista                  6.000000\n",
       "Contador(a)                7.113514\n",
       "Enfermeiro(a)              7.048611\n",
       "Eng. de Software           6.750000\n",
       "Engenheiro(a)              7.987302\n",
       "Gerente                    6.900000\n",
       "Médico(a)                  6.970423\n",
       "Pessoa Vendendora          6.403125\n",
       "Professor(a)               6.690000\n",
       "Representante de Vendas    5.900000\n",
       "Name: Duração do sono, dtype: float64"
      ]
     },
     "metadata": {},
     "output_type": "display_data"
    },
    {
     "name": "stdout",
     "output_type": "stream",
     "text": [
      "-----------------\n"
     ]
    },
    {
     "data": {
      "text/plain": [
       "Profissão\n",
       "Advogado(a)                7.2\n",
       "Cientista                  5.8\n",
       "Contador(a)                7.2\n",
       "Enfermeiro(a)              6.1\n",
       "Eng. de Software           7.5\n",
       "Engenheiro(a)              8.4\n",
       "Gerente                    6.9\n",
       "Médico(a)                  6.0\n",
       "Pessoa Vendendora          6.5\n",
       "Professor(a)               6.6\n",
       "Representante de Vendas    5.9\n",
       "Name: Duração do sono, dtype: float64"
      ]
     },
     "metadata": {},
     "output_type": "display_data"
    },
    {
     "data": {
      "text/plain": [
       "Profissão\n",
       "Advogado(a)                7.410638\n",
       "Cientista                  6.000000\n",
       "Contador(a)                7.113514\n",
       "Enfermeiro(a)              7.048611\n",
       "Eng. de Software           6.750000\n",
       "Engenheiro(a)              7.987302\n",
       "Gerente                    6.900000\n",
       "Médico(a)                  6.970423\n",
       "Pessoa Vendendora          6.403125\n",
       "Professor(a)               6.690000\n",
       "Representante de Vendas    5.900000\n",
       "Name: Duração do sono, dtype: float64"
      ]
     },
     "metadata": {},
     "output_type": "display_data"
    },
    {
     "name": "stdout",
     "output_type": "stream",
     "text": [
      "-----------------\n"
     ]
    }
   ],
   "source": [
    "# Calculando a média, moda e mediana de horas de sono por profissão\n",
    "\n",
    "# Média das horas de sono por profissão\n",
    "media_sono = df.groupby('Profissão')['Duração do sono'].mean()\n",
    "display(media_sono)\n",
    "print(\"-----------------\")\n",
    "\n",
    "# Mediana das horas de sono por profissão\n",
    "mediana_sono = df.groupby('Profissão')['Duração do sono'].median()\n",
    "display(mediana_sono)\n",
    "display(media_sono)\n",
    "print(\"-----------------\")\n",
    "\n",
    "# Moda das horas de sono por profissão\n",
    "moda_sono = df.groupby('Profissão')['Duração do sono'].apply(lambda x: x.mode()[0])\n",
    "display(moda_sono)\n",
    "display(media_sono)\n",
    "print(\"-----------------\")"
   ]
  },
  {
   "cell_type": "code",
   "execution_count": 47,
   "metadata": {},
   "outputs": [
    {
     "name": "stdout",
     "output_type": "stream",
     "text": [
      "Percentual de obesos entre engenheiros de software: 25.00%\n"
     ]
    }
   ],
   "source": [
    "# Percentual de obesos entre engenheiros de software\n",
    "\n",
    "engenheiros_software = df[df['Profissão'] == 'Eng. de Software']   # Filtrando os engenheiros de Software\n",
    "\n",
    "\n",
    "# Calculando o percentual de obesos\n",
    "\n",
    "obesos = engenheiros_software[engenheiros_software['Categoria IMC'] == 'Obesidade']\n",
    "percentual_obesos = (len(obesos) / len(engenheiros_software)) * 100\n",
    "print(f'Percentual de obesos entre engenheiros de software: {percentual_obesos:.2f}%')"
   ]
  },
  {
   "cell_type": "code",
   "execution_count": 52,
   "metadata": {},
   "outputs": [
    {
     "name": "stdout",
     "output_type": "stream",
     "text": [
      "Profissão\n",
      "Advogado(a)                7.410638\n",
      "Representante de Vendas    5.900000\n",
      "Name: Duração do sono, dtype: float64\n"
     ]
    }
   ],
   "source": [
    "# Analisando se advogados e representantes de venda dormem menos\n",
    "\n",
    "advogados_e_representantes = df[df['Profissão'].isin(['Advogado(a)', 'Representante de Vendas'])]  # Filtrando os advogados e representantes de vendas\n",
    "\n",
    "\n",
    "# Calculando a média de horas de sono\n",
    "\n",
    "media_sono = advogados_e_representantes.groupby('Profissão')['Duração do sono'].mean()\n",
    "print(media_sono)"
   ]
  },
  {
   "cell_type": "code",
   "execution_count": 55,
   "metadata": {},
   "outputs": [
    {
     "name": "stdout",
     "output_type": "stream",
     "text": [
      "Profissão\n",
      "Enfermeiro(a)    7.048611\n",
      "Médico(a)        6.970423\n",
      "Name: Duração do sono, dtype: float64\n"
     ]
    }
   ],
   "source": [
    "# Comparação entre média de sono de médicos e enfermeiros\n",
    "\n",
    "med_enf = df[df['Profissão'].isin(['Médico(a)', 'Enfermeiro(a)'])]    # Filtrando os médicos e enfermeiros\n",
    "\n",
    "\n",
    "# Calculando a média de horas de sono\n",
    "\n",
    "media_sono_med_enf = med_enf.groupby('Profissão')['Duração do sono'].mean()\n",
    "print(media_sono_med_enf)"
   ]
  },
  {
   "cell_type": "code",
   "execution_count": 59,
   "metadata": {},
   "outputs": [
    {
     "data": {
      "text/html": [
       "<div>\n",
       "<style scoped>\n",
       "    .dataframe tbody tr th:only-of-type {\n",
       "        vertical-align: middle;\n",
       "    }\n",
       "\n",
       "    .dataframe tbody tr th {\n",
       "        vertical-align: top;\n",
       "    }\n",
       "\n",
       "    .dataframe thead th {\n",
       "        text-align: right;\n",
       "    }\n",
       "</style>\n",
       "<table border=\"1\" class=\"dataframe\">\n",
       "  <thead>\n",
       "    <tr style=\"text-align: right;\">\n",
       "      <th></th>\n",
       "      <th>Identificador</th>\n",
       "      <th>Gênero</th>\n",
       "      <th>Idade</th>\n",
       "      <th>Pressão Sanguínea</th>\n",
       "      <th>Frequência cardíaca</th>\n",
       "    </tr>\n",
       "  </thead>\n",
       "  <tbody>\n",
       "    <tr>\n",
       "      <th>0</th>\n",
       "      <td>1</td>\n",
       "      <td>Homem</td>\n",
       "      <td>27</td>\n",
       "      <td>126/83</td>\n",
       "      <td>77</td>\n",
       "    </tr>\n",
       "    <tr>\n",
       "      <th>1</th>\n",
       "      <td>2</td>\n",
       "      <td>Homem</td>\n",
       "      <td>28</td>\n",
       "      <td>125/80</td>\n",
       "      <td>75</td>\n",
       "    </tr>\n",
       "    <tr>\n",
       "      <th>2</th>\n",
       "      <td>3</td>\n",
       "      <td>Homem</td>\n",
       "      <td>28</td>\n",
       "      <td>125/80</td>\n",
       "      <td>75</td>\n",
       "    </tr>\n",
       "    <tr>\n",
       "      <th>3</th>\n",
       "      <td>4</td>\n",
       "      <td>Homem</td>\n",
       "      <td>28</td>\n",
       "      <td>140/90</td>\n",
       "      <td>85</td>\n",
       "    </tr>\n",
       "    <tr>\n",
       "      <th>4</th>\n",
       "      <td>5</td>\n",
       "      <td>Homem</td>\n",
       "      <td>28</td>\n",
       "      <td>140/90</td>\n",
       "      <td>85</td>\n",
       "    </tr>\n",
       "  </tbody>\n",
       "</table>\n",
       "</div>"
      ],
      "text/plain": [
       "   Identificador Gênero  Idade Pressão Sanguínea  Frequência cardíaca\n",
       "0              1  Homem     27            126/83                   77\n",
       "1              2  Homem     28            125/80                   75\n",
       "2              3  Homem     28            125/80                   75\n",
       "3              4  Homem     28            140/90                   85\n",
       "4              5  Homem     28            140/90                   85"
      ]
     },
     "metadata": {},
     "output_type": "display_data"
    }
   ],
   "source": [
    "# Criando um subconjunto de colunas\n",
    "\n",
    "subconjunto = df[['Identificador', 'Gênero', 'Idade', 'Pressão Sanguínea', 'Frequência cardíaca']]\n",
    "display(subconjunto.head())"
   ]
  },
  {
   "cell_type": "code",
   "execution_count": 60,
   "metadata": {},
   "outputs": [
    {
     "name": "stdout",
     "output_type": "stream",
     "text": [
      "A profissão menos frequente é: Gerente\n"
     ]
    }
   ],
   "source": [
    "# Identificando a Profissão menos frequente\n",
    "\n",
    "profissao_menos_frequente = df['Profissão'].value_counts().idxmin()\n",
    "print(f'A profissão menos frequente é: {profissao_menos_frequente}')"
   ]
  },
  {
   "cell_type": "code",
   "execution_count": null,
   "metadata": {},
   "outputs": [
    {
     "name": "stdout",
     "output_type": "stream",
     "text": [
      "Gênero\n",
      "Homem     126.941799\n",
      "Mulher    130.146739\n",
      "Name: Pressão Sanguínea, dtype: float64\n",
      "Quem tem maior pressão sanguínea média: Mulher\n"
     ]
    }
   ],
   "source": [
    "# Analisando \"Quem tem maior pressão sanguínea, homens ou mulheres?\"\n",
    "\n",
    "coluna_pressao = \"Pressão Sanguínea\"  \n",
    "coluna_genero = \"Gênero\"  \n",
    "\n",
    "# Como a coluna de pressão está no formato \"120/80\", pegamos apenas o primeiro número (sistólica)\n",
    "df[coluna_pressao] = df[coluna_pressao].astype(str).str.extract(r'(\\d+)').astype(float)\n",
    "\n",
    "# Calculando a pressão sanguínea média por gênero\n",
    "media_pressao = df.groupby(coluna_genero)[coluna_pressao].mean()\n",
    "\n",
    "print(media_pressao)\n",
    "\n",
    "# Verificando quem tem maior pressão média\n",
    "genero_maior_pressao = media_pressao.idxmax()\n",
    "print(f\"Quem tem maior pressão sanguínea média: {genero_maior_pressao}\")\n"
   ]
  },
  {
   "cell_type": "code",
   "execution_count": 65,
   "metadata": {},
   "outputs": [
    {
     "name": "stdout",
     "output_type": "stream",
     "text": [
      "A moda das horas de sono é 7.2\n"
     ]
    }
   ],
   "source": [
    "# Analisando se a maioria dos profissionais dorme 8 horas\n",
    "\n",
    "moda_sono = df['Duração do sono'].mode()[0]\n",
    "print(f'A moda das horas de sono é {moda_sono}')"
   ]
  },
  {
   "cell_type": "code",
   "execution_count": 69,
   "metadata": {},
   "outputs": [
    {
     "name": "stdout",
     "output_type": "stream",
     "text": [
      "Pessoas com frequência cardíaca baixa dão mais passos.\n"
     ]
    }
   ],
   "source": [
    "# Analisando se pessoas com frequência cardíaca alta dão mais passos\n",
    "\n",
    "passos_fc_alta = df[df['Frequência cardíaca'] > 70]['Passos diários'].mean()\n",
    "passos_fc_baixa = df[df['Frequência cardíaca'] <= 70]['Passos diários'].mean()\n",
    "\n",
    "if passos_fc_alta > passos_fc_baixa:\n",
    "    print('Pessoas com frequência cardíaca alta dão mais passos.')\n",
    "else:\n",
    "    print('Pessoas com frequência cardíaca baixa dão mais passos.')"
   ]
  }
 ],
 "metadata": {
  "kernelspec": {
   "display_name": "Python 3",
   "language": "python",
   "name": "python3"
  },
  "language_info": {
   "codemirror_mode": {
    "name": "ipython",
    "version": 3
   },
   "file_extension": ".py",
   "mimetype": "text/x-python",
   "name": "python",
   "nbconvert_exporter": "python",
   "pygments_lexer": "ipython3",
   "version": "3.11.9"
  }
 },
 "nbformat": 4,
 "nbformat_minor": 2
}

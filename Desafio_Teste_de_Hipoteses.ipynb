{
  "nbformat": 4,
  "nbformat_minor": 0,
  "metadata": {
    "colab": {
      "provenance": [],
      "authorship_tag": "ABX9TyOYLVPLJsIniTvwjIlSLU9L",
      "include_colab_link": true
    },
    "kernelspec": {
      "name": "python3",
      "display_name": "Python 3"
    },
    "language_info": {
      "name": "python"
    }
  },
  "cells": [
    {
      "cell_type": "markdown",
      "metadata": {
        "id": "view-in-github",
        "colab_type": "text"
      },
      "source": [
        "<a href=\"https://colab.research.google.com/github/gabriellysilva-git/Bootcamp_WomakersCode/blob/main/Desafio_Teste_de_Hipoteses.ipynb\" target=\"_parent\"><img src=\"https://colab.research.google.com/assets/colab-badge.svg\" alt=\"Open In Colab\"/></a>"
      ]
    },
    {
      "cell_type": "markdown",
      "source": [
        "Considerando a base de dados experimento_test_ab.csv responda as questões abaixo: 1. Qual dos cenários tem a maior taxa de conversão?"
      ],
      "metadata": {
        "id": "47DHHpqQ8UmJ"
      }
    },
    {
      "cell_type": "code",
      "source": [
        "import pandas as pd\n",
        "\n",
        "# Carregar os dados\n",
        "dados_ab = pd.read_csv('experimento_teste_ab.csv')\n",
        "\n",
        "# Calcular taxa de conversão para cada cenário\n",
        "taxa_conversao = dados_ab.groupby('Versão_Página')['Conversões'].mean()\n",
        "\n",
        "# Encontrar o cenário com maior taxa\n",
        "maior_taxa = taxa_conversao.idxmax()\n",
        "valor_maior_taxa = taxa_conversao.max()\n",
        "\n",
        "print(f\"O cenário com maior taxa de conversão é {maior_taxa} com {valor_maior_taxa:.2%}\")"
      ],
      "metadata": {
        "colab": {
          "base_uri": "https://localhost:8080/"
        },
        "id": "NaSgbI0J9vp0",
        "outputId": "0d0e5767-d2dc-4bc6-c953-5f5ed9264c23"
      },
      "execution_count": 16,
      "outputs": [
        {
          "output_type": "stream",
          "name": "stdout",
          "text": [
            "O cenário com maior taxa de conversão é B com 12.50%\n"
          ]
        }
      ]
    },
    {
      "cell_type": "markdown",
      "source": [
        "2. Calcule qual o tamanho da amostra necessária para o desenvolvimento de umtesteA/B, seguindo os seguintes critérios:\n",
        "a. O cenário A, da base, como o inicial, que funciona hoje.\n",
        "b. Considere 95% de confiança de queoefeito na conversão não foi aleatório com um nível de significância de 5% (alpha = 0,05).\n",
        "c. Também considere 80% de certeza conseguir capturar o efeito da nova abordagem.\n",
        "d. O aumento para 10% de conversão."
      ],
      "metadata": {
        "id": "_cojaQF891_T"
      }
    },
    {
      "cell_type": "code",
      "source": [
        "import statsmodels.stats.power as smp\n",
        "\n",
        "# Parâmetros\n",
        "alpha = 0.05  # Nível de significância\n",
        "power = 0.8   # Poder estatístico\n",
        "effect_size = 0.1  # Aumento de 10% na conversão\n",
        "conversao_A = dados_ab[dados_ab['Versão_Página'] == 'A']['Conversões'].mean()\n",
        "\n",
        "# Calcular tamanho da amostra\n",
        "tamanho_amostra = smp.tt_ind_solve_power(\n",
        "    effect_size=effect_size,\n",
        "    alpha=alpha,\n",
        "    power=power,\n",
        "    ratio=1.0\n",
        ")\n",
        "\n",
        "print(f\"Tamanho da amostra necessário: {int(tamanho_amostra)} por grupo\")"
      ],
      "metadata": {
        "colab": {
          "base_uri": "https://localhost:8080/"
        },
        "id": "nK__16OO-CSD",
        "outputId": "cf95cf46-28d5-4e99-b0c0-9910c9460711"
      },
      "execution_count": 3,
      "outputs": [
        {
          "output_type": "stream",
          "name": "stdout",
          "text": [
            "Tamanho da amostra necessário: 1570 por grupo\n"
          ]
        }
      ]
    },
    {
      "cell_type": "markdown",
      "source": [
        "Verifique a base pacientes.csv, os dados são fictícios. A sintetiza uma base de dados de um hospital que trata de pacientes com problemas cardíacos. Considere a base como a população, portanto as estatísticas da população são conhecidas. Responda as perguntas abaixo:\n",
        "\n",
        "3. Considerando uma amostra de 45 números que representam o index do dataframe, índices= ([909, 751, 402, 400, 726, 39, 184, 269, 255, 769, 209, 715, 677, 381, 793, 697, 89, 280, 232, 756, 358, 36, 439, 768, 967, 699, 473, 222, 89, 639, 883, 558, 757, 84, 907, 895, 217, 224, 311, 348, 146, 505, 273, 957, 362]). Considerando essa amostra é possível dizer que a idade média das pessoas com problemas cardíacos é maior que 50 anos? Nível de significância igual a 5%."
      ],
      "metadata": {
        "id": "iqALNYzB-Vcn"
      }
    },
    {
      "cell_type": "code",
      "source": [
        "from scipy import stats\n",
        "\n",
        "# Carregar os dados\n",
        "dados_pacientes = pd.read_csv('pacientes.csv')\n",
        "\n",
        "# Índices da amostra\n",
        "indices = [909, 751, 402, 400, 726, 39, 184, 269, 255, 769, 209, 715, 677, 381, 793, 697, 89, 280, 232, 756, 358, 36, 439, 768, 967, 699, 473, 222, 89, 639, 883, 558, 757, 84, 907, 895, 217, 224, 311, 348, 146, 505, 273, 957, 362]\n",
        "\n",
        "# Filtrar a amostra\n",
        "amostra = dados_pacientes.loc[indices, 'Idade']\n",
        "\n",
        "# Teste t unilateral\n",
        "t_stat, p_valor = stats.ttest_1samp(amostra, 50, alternative='greater')\n",
        "\n",
        "print(f\"Idade média da amostra: {amostra.mean():.2f}\")\n",
        "print(f\"p-valor: {p_valor:.4f}\")\n",
        "\n",
        "if p_valor < 0.05:\n",
        "    print(\"Rejeitamos H0: A idade média é maior que 50 anos.\")\n",
        "else:\n",
        "    print(\"Não rejeitamos H0: Não há evidências de que a idade média seja maior que 50 anos.\")"
      ],
      "metadata": {
        "colab": {
          "base_uri": "https://localhost:8080/"
        },
        "id": "fFcHznh4-XY7",
        "outputId": "7e6823f9-e1bf-46a6-dc71-9d53c4cabf13"
      },
      "execution_count": 4,
      "outputs": [
        {
          "output_type": "stream",
          "name": "stdout",
          "text": [
            "Idade média da amostra: 50.09\n",
            "p-valor: 0.4793\n",
            "Não rejeitamos H0: Não há evidências de que a idade média seja maior que 50 anos.\n"
          ]
        }
      ]
    },
    {
      "cell_type": "markdown",
      "source": [
        "4. Queremos entender que tipo de amostra estamos lidando se dividirmos os conjuntos em 2, sendo um com pessoas que têm condições de saúde adicionais e o outro com pessoas saudáveis. Seria dependente ou independente?"
      ],
      "metadata": {
        "id": "3BtKYGZQ-q6I"
      }
    },
    {
      "cell_type": "code",
      "source": [
        "# Dividir os dados em dois grupos\n",
        "grupo_saudavel = dados_pacientes[dados_pacientes['Estado_Saude'] == 0]\n",
        "grupo_condicoes = dados_pacientes[dados_pacientes['Estado_Saude'] == 1]\n",
        "\n",
        "print(\"Tamanho do grupo saudável:\", len(grupo_saudavel))\n",
        "print(\"Tamanho do grupo com condições:\", len(grupo_condicoes))\n",
        "\n",
        "if len(grupo_saudavel) == len(grupo_condicoes):\n",
        "    print(\"Amostras pareadas (dependentes)\")\n",
        "else:\n",
        "    print(\"Amostras independentes\")"
      ],
      "metadata": {
        "colab": {
          "base_uri": "https://localhost:8080/"
        },
        "id": "rE-iWIcc-sVv",
        "outputId": "3dc69de1-daf5-429d-9e19-556fe6036ba2"
      },
      "execution_count": 5,
      "outputs": [
        {
          "output_type": "stream",
          "name": "stdout",
          "text": [
            "Tamanho do grupo saudável: 490\n",
            "Tamanho do grupo com condições: 510\n",
            "Amostras independentes\n"
          ]
        }
      ]
    },
    {
      "cell_type": "markdown",
      "source": [
        "5. Agora considere o um conjunto de pessoas aleatória que representam o index do dataframe, índices = ([690, 894, 67, 201, 364, 19, 60, 319, 588, 643, 855, 623, 530, 174, 105, 693, 6, 462, 973, 607, 811, 346, 354, 966, 943, 372]), podemos dizer que a pressão arterial média para pacientes com condições de saúde adicionais é igual à pressão arterial média para pacientes sem condições adicionais de saúde? Considere o nível de significância a 6%."
      ],
      "metadata": {
        "id": "GCes174L-3Rn"
      }
    },
    {
      "cell_type": "code",
      "source": [
        "# Índices da amostra\n",
        "indices = [690, 894, 67, 201, 364, 19, 60, 319, 588, 643, 855, 623, 530, 174, 105, 693, 6, 462, 973, 607, 811, 346, 354, 966, 943, 372]\n",
        "\n",
        "# Filtrar a amostra\n",
        "amostra = dados_pacientes.loc[indices]\n",
        "\n",
        "# Dividir em grupos\n",
        "pressao_saudavel = amostra[amostra['Estado_Saude'] == 0]['Pressao_Arterial']\n",
        "pressao_condicoes = amostra[amostra['Estado_Saude'] == 1]['Pressao_Arterial']\n",
        "\n",
        "# Teste t independente\n",
        "t_stat, p_valor = stats.ttest_ind(pressao_saudavel, pressao_condicoes)\n",
        "\n",
        "print(f\"p-valor: {p_valor:.4f}\")\n",
        "\n",
        "if p_valor < 0.06:\n",
        "    print(\"Rejeitamos H0: As pressões arteriais médias são diferentes.\")\n",
        "else:\n",
        "    print(\"Não rejeitamos H0: Não há evidências de diferença nas pressões arteriais médias.\")"
      ],
      "metadata": {
        "colab": {
          "base_uri": "https://localhost:8080/"
        },
        "id": "wDyzExcL-4vX",
        "outputId": "ef651162-187d-4b80-8177-9b6114b282de"
      },
      "execution_count": 6,
      "outputs": [
        {
          "output_type": "stream",
          "name": "stdout",
          "text": [
            "p-valor: 0.9359\n",
            "Não rejeitamos H0: Não há evidências de diferença nas pressões arteriais médias.\n"
          ]
        }
      ]
    },
    {
      "cell_type": "markdown",
      "source": [
        "6. Existe uma diferença significativa na pressão arterial média entre diferentes grupos étnicos nesta população? (Teste ANOVA, alpha é 5%) a. Hipótese Nula (H0 ): A pressão arterial média é a mesma em todos os grupos étnicos. b. Hipótese Alternativa (H1 ): Há uma diferença significativa na pressão arterial média entre pelo menos dois grupos étnicos nesta população."
      ],
      "metadata": {
        "id": "8Zto3gdX_Cpf"
      }
    },
    {
      "cell_type": "code",
      "source": [
        "from scipy.stats import f_oneway\n",
        "\n",
        "# Separar por etnia\n",
        "grupos = []\n",
        "for etnia in dados_pacientes['Etnia'].unique():\n",
        "    grupos.append(dados_pacientes[dados_pacientes['Etnia'] == etnia]['Pressao_Arterial'])\n",
        "\n",
        "# Teste ANOVA\n",
        "f_stat, p_valor = f_oneway(*grupos)\n",
        "\n",
        "print(f\"p-valor: {p_valor:.4f}\")\n",
        "\n",
        "if p_valor < 0.05:\n",
        "    print(\"Rejeitamos H0: Há diferença significativa entre pelo menos dois grupos étnicos.\")\n",
        "else:\n",
        "    print(\"Não rejeitamos H0: Não há diferença significativa entre os grupos étnicos.\")"
      ],
      "metadata": {
        "colab": {
          "base_uri": "https://localhost:8080/"
        },
        "id": "OVm7mJcP_Eak",
        "outputId": "51889fa1-3752-48b2-912f-23835e9eaf25"
      },
      "execution_count": 7,
      "outputs": [
        {
          "output_type": "stream",
          "name": "stdout",
          "text": [
            "p-valor: 0.8738\n",
            "Não rejeitamos H0: Não há diferença significativa entre os grupos étnicos.\n"
          ]
        }
      ]
    },
    {
      "cell_type": "markdown",
      "source": [
        "7. Lúcia é uma pesquisadora e tem o objetivo de entender a relação de gênero neste grupo de pacientes. Acredita-se que há uma relação entre o sexo e condições de saúde adicionais. (Teste qui-quadrado)"
      ],
      "metadata": {
        "id": "53xYOemB_O9I"
      }
    },
    {
      "cell_type": "code",
      "source": [
        "from scipy.stats import chi2_contingency\n",
        "\n",
        "# Tabela de contingência\n",
        "tabela = pd.crosstab(dados_pacientes['Genero'], dados_pacientes['Estado_Saude'])\n",
        "\n",
        "# Teste qui-quadrado\n",
        "chi2, p_valor, _, _ = chi2_contingency(tabela)\n",
        "\n",
        "print(f\"p-valor: {p_valor:.4f}\")\n",
        "\n",
        "if p_valor < 0.05:\n",
        "    print(\"Rejeitamos H0: Há relação entre gênero e condições de saúde.\")\n",
        "else:\n",
        "    print(\"Não rejeitamos H0: Não há relação entre gênero e condições de saúde.\")"
      ],
      "metadata": {
        "colab": {
          "base_uri": "https://localhost:8080/"
        },
        "id": "ONfv1NnJ_PwA",
        "outputId": "a4380869-4968-4d86-a312-08e62e2d1c25"
      },
      "execution_count": 8,
      "outputs": [
        {
          "output_type": "stream",
          "name": "stdout",
          "text": [
            "p-valor: 1.0000\n",
            "Não rejeitamos H0: Não há relação entre gênero e condições de saúde.\n"
          ]
        }
      ]
    },
    {
      "cell_type": "markdown",
      "source": [
        "8. Existe uma associação entre a idade dos pacientes e sua pressão arterial? a. Hipótese Nula (H0 ): se a pressão arterial é independente da idade b. Hipótese Alternativa (H1 ): a pressão arterial esta associada a idade"
      ],
      "metadata": {
        "id": "T_7zR9OX_U8k"
      }
    },
    {
      "cell_type": "code",
      "source": [
        "from scipy.stats import pearsonr\n",
        "\n",
        "# Teste de correlação\n",
        "corr, p_valor = pearsonr(dados_pacientes['Idade'], dados_pacientes['Pressao_Arterial'])\n",
        "\n",
        "print(f\"Coeficiente de correlação: {corr:.4f}\")\n",
        "print(f\"p-valor: {p_valor:.4f}\")\n",
        "\n",
        "if p_valor < 0.05:\n",
        "    print(\"Rejeitamos H0: Há associação entre idade e pressão arterial.\")\n",
        "else:\n",
        "    print(\"Não rejeitamos H0: Não há associação entre idade e pressão arterial.\")\n",
        "\n",
        "import matplotlib.pyplot as plt\n",
        "\n",
        "plt.scatter(dados_pacientes['Idade'], dados_pacientes['Pressao_Arterial'])\n",
        "plt.xlabel(\"Idade\")\n",
        "plt.ylabel(\"Pressão Arterial\")\n",
        "plt.show()"
      ],
      "metadata": {
        "colab": {
          "base_uri": "https://localhost:8080/",
          "height": 501
        },
        "id": "lypAe2-v_YmG",
        "outputId": "79e9527d-1a26-4512-a324-df2a3809874e"
      },
      "execution_count": 13,
      "outputs": [
        {
          "output_type": "stream",
          "name": "stdout",
          "text": [
            "Coeficiente de correlação: -0.0214\n",
            "p-valor: 0.4994\n",
            "Não rejeitamos H0: Não há associação entre idade e pressão arterial.\n"
          ]
        },
        {
          "output_type": "display_data",
          "data": {
            "text/plain": [
              "<Figure size 640x480 with 1 Axes>"
            ],
            "image/png": "[encoded data removed]"
          },
          "metadata": {}
        }
      ]
    },
    {
      "cell_type": "markdown",
      "source": [
        "9. Qual é o intervalo de confiança para a média da pressão arterial entre os pacientes com condições de saúde adicionais? (nível de confiança 95%)"
      ],
      "metadata": {
        "id": "ixGSu4o__elQ"
      }
    },
    {
      "cell_type": "code",
      "source": [
        "import numpy as np\n",
        "\n",
        "# Filtrar pacientes com condições\n",
        "pressao_condicoes = dados_pacientes[dados_pacientes['Estado_Saude'] == 1]['Pressao_Arterial']\n",
        "\n",
        "# Calcular intervalo de confiança\n",
        "media = pressao_condicoes.mean()\n",
        "desvio_padrao = pressao_condicoes.std()\n",
        "n = len(pressao_condicoes)\n",
        "erro_padrao = desvio_padrao / np.sqrt(n)\n",
        "intervalo = stats.norm.interval(0.95, loc=media, scale=erro_padrao)\n",
        "\n",
        "print(f\"Intervalo de confiança (95%): ({intervalo[0]:.2f}, {intervalo[1]:.2f})\")"
      ],
      "metadata": {
        "colab": {
          "base_uri": "https://localhost:8080/"
        },
        "id": "KGioU-AB_hxP",
        "outputId": "90706023-86a4-4bb3-8061-0598efbb178b"
      },
      "execution_count": 10,
      "outputs": [
        {
          "output_type": "stream",
          "name": "stdout",
          "text": [
            "Intervalo de confiança (95%): (149.22, 151.02)\n"
          ]
        }
      ]
    },
    {
      "cell_type": "markdown",
      "source": [
        "10. A distribuição da pressão arterial na população segue uma distribuição normal?\n",
        "a. Hipótese Nula (H0 ): A distribuição da pressão arterial na população segue uma distribuição normal.\n",
        "b. Hipótese Alternativa (H1 ): A distribuição da pressão arterial na população não segue uma distribuição normal."
      ],
      "metadata": {
        "id": "lpdouJS9_iuY"
      }
    },
    {
      "cell_type": "code",
      "source": [
        "from scipy.stats import shapiro\n",
        "\n",
        "# Teste de normalidade\n",
        "stat, p_valor = shapiro(dados_pacientes['Pressao_Arterial'])\n",
        "\n",
        "print(f\"p-valor: {p_valor:.4f}\")\n",
        "\n",
        "if p_valor < 0.05:\n",
        "    print(\"Rejeitamos H0: A distribuição não é normal.\")\n",
        "else:\n",
        "    print(\"Não rejeitamos H0: A distribuição é normal.\")"
      ],
      "metadata": {
        "colab": {
          "base_uri": "https://localhost:8080/"
        },
        "id": "GrF1YOFZ_mbd",
        "outputId": "32fdaf47-7992-40b8-d966-abfb0777e28e"
      },
      "execution_count": 11,
      "outputs": [
        {
          "output_type": "stream",
          "name": "stdout",
          "text": [
            "p-valor: 0.0607\n",
            "Não rejeitamos H0: A distribuição é normal.\n"
          ]
        }
      ]
    }
  ]
}